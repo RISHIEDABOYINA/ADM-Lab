{
  "nbformat": 4,
  "nbformat_minor": 0,
  "metadata": {
    "colab": {
      "provenance": [],
      "authorship_tag": "ABX9TyNb1nj+Cdb+gkOBXsVV1k4F",
      "include_colab_link": true
    },
    "kernelspec": {
      "name": "python3",
      "display_name": "Python 3"
    },
    "language_info": {
      "name": "python"
    }
  },
  "cells": [
    {
      "cell_type": "markdown",
      "metadata": {
        "id": "view-in-github",
        "colab_type": "text"
      },
      "source": [
        "<a href=\"https://colab.research.google.com/github/RISHIEDABOYINA/ADM-Lab/blob/main/Lab01.ipynb\" target=\"_parent\"><img src=\"https://colab.research.google.com/assets/colab-badge.svg\" alt=\"Open In Colab\"/></a>"
      ]
    },
    {
      "cell_type": "code",
      "execution_count": 3,
      "metadata": {
        "id": "PVrXZ5OoKgH_",
        "colab": {
          "base_uri": "https://localhost:8080/"
        },
        "outputId": "dbbec6f3-e978-46a3-c4a9-4d885e511799"
      },
      "outputs": [
        {
          "output_type": "stream",
          "name": "stdout",
          "text": [
            "                                     Smartphone     Brand           Model  \\\n",
            "0            Realme C55 8/256GB Sunshower Libre    Realme             C55   \n",
            "1      Samsung Galaxy M23 5G 4/128GB Azul Libre   Samsung      Galaxy M23   \n",
            "2  Motorola Moto G13 4/128GB Azul Lavanda Libre  Motorola        Moto G13   \n",
            "3      Xiaomi Redmi Note 11S 6/128GB Gris Libre    Xiaomi  Redmi Note 11S   \n",
            "4       Nothing Phone (2) 12/512GB Blanco Libre   Nothing       Phone (2)   \n",
            "\n",
            "    RAM  Storage   Color Free  Final Price  \n",
            "0   8.0    256.0  Yellow  Yes       231.60  \n",
            "1   4.0    128.0    Blue  Yes       279.00  \n",
            "2   4.0    128.0    Blue  Yes       179.01  \n",
            "3   6.0    128.0    Gray  Yes       279.99  \n",
            "4  12.0    512.0   White  Yes       799.00  \n"
          ]
        }
      ],
      "source": [
        "import pandas as pd\n",
        "\n",
        "file_path = '/content/smartphones.csv'\n",
        "\n",
        "df = pd.read_csv(file_path)\n",
        "\n",
        "print(df.head())\n"
      ]
    }
  ]
}